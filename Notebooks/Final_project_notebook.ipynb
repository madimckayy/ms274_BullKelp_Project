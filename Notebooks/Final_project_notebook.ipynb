{
 "cells": [
  {
   "cell_type": "markdown",
   "id": "5d1d6491-1065-4d51-9ba6-c863a58d4c0d",
   "metadata": {},
   "source": [
    "This will be the notebook for my final project on bull kelp"
   ]
  },
  {
   "cell_type": "code",
   "execution_count": null,
   "id": "91f9418a-6104-44af-9433-1e6090f00114",
   "metadata": {},
   "outputs": [],
   "source": []
  }
 ],
 "metadata": {
  "kernelspec": {
   "display_name": "Python 3 (ipykernel)",
   "language": "python",
   "name": "python3"
  },
  "language_info": {
   "codemirror_mode": {
    "name": "ipython",
    "version": 3
   },
   "file_extension": ".py",
   "mimetype": "text/x-python",
   "name": "python",
   "nbconvert_exporter": "python",
   "pygments_lexer": "ipython3",
   "version": "3.10.12"
  }
 },
 "nbformat": 4,
 "nbformat_minor": 5
}
