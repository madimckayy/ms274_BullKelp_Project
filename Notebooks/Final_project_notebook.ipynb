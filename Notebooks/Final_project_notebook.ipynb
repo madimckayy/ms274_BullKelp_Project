{
 "cells": [
  {
   "cell_type": "markdown",
   "id": "5d1d6491-1065-4d51-9ba6-c863a58d4c0d",
   "metadata": {},
   "source": [
    "This will be the notebook for my final project on bull kelp"
   ]
  },
  {
   "cell_type": "code",
   "execution_count": 1,
   "id": "1898548e-6a2e-4376-a117-b334641c1841",
   "metadata": {},
   "outputs": [],
   "source": [
    "# import the modules you will need for this notebook\n",
    "import numpy as np\n",
    "import matplotlib.pyplot as plt\n",
    "import netCDF4 as nc4\n",
    "import os\n",
    "import requests\n",
    "import os\n",
    "from subscriber import podaac_data_downloader as pdd\n",
    "from subscriber import podaac_access as pa\n",
    "import argparse\n",
    "import datetime as dt\n",
    "import pandas as pd"
   ]
  },
  {
   "cell_type": "code",
   "execution_count": 4,
   "id": "91f9418a-6104-44af-9433-1e6090f00114",
   "metadata": {},
   "outputs": [],
   "source": [
    "#Dowload SST data to make a time series\n",
    "# define an output folder, make data path to external hard drive for homework and change dates and times and should be good to go\n",
    "data_path = 'D:\\\\ms274\\\\Final_Project\\\\SST\\\\MUR1997-2023'\n",
    "\n",
    "# define a collection e.g.:\n",
    "# MUR SST: MUR25-JPL-L4-GLOB-v04.2\n",
    "# SMAP SSS: SMAP_JPL_L3_SSS_CAP_MONTHLY_V5\n",
    "short_name = 'MUR25-JPL-L4-GLOB-v04.2'\n",
    "\n",
    "# define a start time\n",
    "# must be in this format:\n",
    "start_date_time = '2000-01-01T00:00:00Z'\n",
    "\n",
    "# define a start time\n",
    "# must be in this format:\n",
    "end_date_time = '2002-08-31T00:00:00Z'\n",
    "\n",
    "# create a parser object from the \n",
    "parser = pdd.create_parser()\n",
    "args = parser.parse_args(['-c',short_name, '-d',data_path,\n",
    "                          '-sd',start_date_time, '-ed',end_date_time])\n",
    "\n",
    "# run the downloading script\n",
    "pdd.run(args)"
   ]
  },
  {
   "cell_type": "code",
   "execution_count": 23,
   "id": "d0b796ea-ba10-4b90-81fe-0276f3af6ff9",
   "metadata": {},
   "outputs": [
    {
     "name": "stdout",
     "output_type": "stream",
     "text": [
      "Header:\n",
      "year,quarter,kelp_area_m2,count_cells_kelp,count_cells_no_clouds,count_cells_historic_footprint\n",
      "\n",
      "Example Line:\n",
      "2001,3,1965349,10148,18703,18973\n"
     ]
    }
   ],
   "source": [
    "#read in csv file of kelp data\n",
    "file_path = 'C:\\\\Users\\\\maddi\\\\Documents\\\\ms274FinalProject\\\\ms274_BullKelp_Project\\\\Notebooks\\\\2000-2023 Kelp Data Q3.csv'\n",
    "\n",
    "timeseries = np.genfromtxt(file_path, delimiter=',', skip_header=1)\n",
    "\n",
    "\n",
    "file_name = \"2000-2023 Kelp Data Q3.csv\"\n",
    "f = open(file_name)\n",
    "lines = f.read()\n",
    "f.close()\n",
    "\n",
    "lines = lines.split('\\n')\n",
    "header = lines.pop(0)\n",
    "\n",
    "print(\"Header:\")\n",
    "print(header)\n",
    "print()\n",
    "print(\"Example Line:\")\n",
    "print(lines[1])"
   ]
  },
  {
   "cell_type": "code",
   "execution_count": 31,
   "id": "2e5a6240-5a8f-4778-b36e-86b9575746bc",
   "metadata": {},
   "outputs": [
    {
     "ename": "NameError",
     "evalue": "name 'pd' is not defined",
     "output_type": "error",
     "traceback": [
      "\u001b[1;31m---------------------------------------------------------------------------\u001b[0m",
      "\u001b[1;31mNameError\u001b[0m                                 Traceback (most recent call last)",
      "Cell \u001b[1;32mIn[31], line 1\u001b[0m\n\u001b[1;32m----> 1\u001b[0m data \u001b[38;5;241m=\u001b[39m \u001b[43mpd\u001b[49m\u001b[38;5;241m.\u001b[39mread_excel(file_path, header\u001b[38;5;241m=\u001b[39m\u001b[38;5;28;01mNone\u001b[39;00m, names\u001b[38;5;241m=\u001b[39m[\u001b[38;5;124m'\u001b[39m\u001b[38;5;124mDate\u001b[39m\u001b[38;5;124m'\u001b[39m, \u001b[38;5;124m'\u001b[39m\u001b[38;5;124mUnused_Column\u001b[39m\u001b[38;5;124m'\u001b[39m, \u001b[38;5;124m'\u001b[39m\u001b[38;5;124mKelp_Area\u001b[39m\u001b[38;5;124m'\u001b[39m])\n\u001b[0;32m      3\u001b[0m \u001b[38;5;66;03m# Drop the unused column\u001b[39;00m\n\u001b[0;32m      4\u001b[0m data \u001b[38;5;241m=\u001b[39m data\u001b[38;5;241m.\u001b[39mdrop(columns\u001b[38;5;241m=\u001b[39m[\u001b[38;5;124m'\u001b[39m\u001b[38;5;124mUnused_Column\u001b[39m\u001b[38;5;124m'\u001b[39m])\n",
      "\u001b[1;31mNameError\u001b[0m: name 'pd' is not defined"
     ]
    }
   ],
   "source": [
    "data = pd.read_excel(file_path, header=None, names=['Date', 'Unused_Column', 'Kelp_Area'])\n",
    "\n",
    "# Drop the unused column\n",
    "data = data.drop(columns=['Unused_Column'])\n",
    "\n",
    "# Plotting the graph\n",
    "plt.figure(figsize=(10, 6))  # Adjust the figure size if needed\n",
    "plt.plot(data['Date'], data['Kelp_Area'], marker='o', linestyle='-', color='b', label='Kelp Area')\n",
    "plt.xlabel('Date')\n",
    "plt.ylabel('Kelp Area')\n",
    "plt.title('Kelp Area over Time')\n",
    "plt.xticks(rotation=45)  # Rotate x-axis labels for better visibility\n",
    "plt.grid(True)\n",
    "plt.legend()\n",
    "plt.tight_layout()\n",
    "\n",
    "# Show the plot\n",
    "plt.show()"
   ]
  },
  {
   "cell_type": "code",
   "execution_count": 6,
   "id": "0b46591e-2ccf-4794-b5d6-dd53d0106d06",
   "metadata": {},
   "outputs": [
    {
     "name": "stdout",
     "output_type": "stream",
     "text": [
      "5.626\n",
      "-32768.0\n"
     ]
    }
   ],
   "source": [
    "# define a path to your raster files folder \n",
    "file_folder = 'D:\\\\ms274\\\\Final_Project\\\\SST\\\\MUR1997-2023'\n",
    "\n",
    "# make a file path to one of the nc files\n",
    "file_path = file_folder + '\\\\' + '20020902090000-JPL-L4_GHRSST-SSTfnd-MUR25-GLOB-v02.0-fv04.2.nc'\n",
    "\n",
    "# open the file and read in the sea ice variable to a 2D numpy grid. Ds is dataset\n",
    "ds = nc4.Dataset(file_path)\n",
    "sst_grid = ds.variables['sst_anomaly']\n",
    "sst_grid = np.array(sst_grid)\n",
    "ds.close()\n",
    "\n",
    "# print the minimum and maximum of the grid\n",
    "print(np.max(sst_grid))\n",
    "print(np.min(sst_grid))"
   ]
  },
  {
   "cell_type": "code",
   "execution_count": 7,
   "id": "7fb05832-481d-492e-b1c1-b49cd9619cd5",
   "metadata": {},
   "outputs": [
    {
     "name": "stdout",
     "output_type": "stream",
     "text": [
      "1439\n",
      "511\n",
      "1439\n",
      "515\n"
     ]
    }
   ],
   "source": [
    "min_x = 236\n",
    "max_x = 237\n",
    "min_y = 38\n",
    "max_y = 39\n",
    "\n",
    "ds = nc4.Dataset(file_path)\n",
    "x_grid = ds.variables['lon']\n",
    "x_grid = np.array(x_grid)\n",
    "y_grid = ds.variables['lat']\n",
    "y_grid = np.array(y_grid)\n",
    "sst_grid = ds.variables['sst_anomaly']\n",
    "sst_grid = np.array(sst_grid)\n",
    "ds.close()\n",
    "\n",
    "min_x_index = np.argmin(np.abs(min_x - x_grid))\n",
    "max_x_index = np.argmin(np.abs(max_x - x_grid))\n",
    "\n",
    "min_y_index = np.argmin(np.abs(min_y - y_grid))\n",
    "max_y_index = np.argmin(np.abs(max_y - y_grid))\n",
    "\n",
    "print(min_x_index)\n",
    "print(min_y_index)\n",
    "print(max_x_index)\n",
    "print(max_y_index)"
   ]
  },
  {
   "cell_type": "code",
   "execution_count": 11,
   "id": "ef470362-cb9f-4e08-a5be-ddac42c2b8c9",
   "metadata": {},
   "outputs": [
    {
     "name": "stdout",
     "output_type": "stream",
     "text": [
      "20020901090000-JPL-L4_GHRSST-SSTfnd-MUR25-GLOB-v02.0-fv04.2.nc\n",
      "20170601090000-JPL-L4_GHRSST-SSTfnd-MUR25-GLOB-v02.0-fv04.2.nc\n"
     ]
    }
   ],
   "source": [
    "# make a sorted file list of all the sea ice nc files\n",
    "file_list = []\n",
    "for file_name in os.listdir(file_folder):\n",
    "    if file_name[-3:]=='.nc':\n",
    "        file_list.append(file_name)\n",
    "\n",
    "# sort the file list\n",
    "file_list.sort()\n",
    "\n",
    "# make empty lists called date_list and seaice_values\n",
    "# to store data from all of the files\n",
    "print(file_list[0])\n",
    "print(file_list[-1])\n",
    "\n",
    "date_list = []\n",
    "sst_values = []\n",
    "\n",
    "# loop through all of the files in the file list\n",
    "for file_name in file_list:\n",
    "    \n",
    "    \n",
    "    # make a date string for the file\n",
    "    file_parts = file_name.split('-')\n",
    "    year = file_parts[0][0:4]\n",
    "    month = file_parts[0][4:6]\n",
    "    day = file_parts[0][6:8]\n",
    "    date_str = year+'-'+month+'-'+day\n",
    "    \n",
    "    # open the file to get the seaice grid\n",
    "    file_path = file_folder + '\\\\' + file_name\n",
    "    ds = nc4.Dataset(file_path)\n",
    "    longitude = np.array(ds.variables['lon'])\n",
    "    latitude = np.array(ds.variables['lat'])\n",
    "    sst = np.array(ds.variables['sst_anomaly'])\n",
    "    ds.close()\n",
    "    sst = sst[0,:,:]\n",
    "\n",
    " #ssh_masked = np.ma.masked_where(ssh>10000, ssh)\n",
    "    #print(np.shape(ssh))\n",
    "    #print(min_y_index,max_y_index,min_x_index,max_x_index)\n",
    "    sst_grid_subset = sst[min_y_index:max_y_index, min_x_index:max_x_index]\n",
    "    #print(ssh_grid_subset)\n",
    "    sst_grid_subset = sst_grid_subset[sst_grid_subset>-100]\n",
    "    #mean_sst = np.mean(sst_grid_subset)\n",
    "\n",
    "    date_list.append(date_str)\n",
    "    sst_values.append(sst_grid_subset)\n",
    "    # compute the total area of seaice in this grid\n",
    "    #seaice_value_filtered = seaice_grid[seaice_grid <= 1]\n",
    "    #seaice_area_per_grid_point = seaice_value_filtered * 25 * 25\n",
    "    #total_seaice_area = np.sum(seaice_area_per_grid_point)\n",
    "\n",
    "    # if the sea ice area value is valid (>0), add the date to the date list\n",
    "    # and the value to the value list \n",
    "\n",
    "\n",
    "# make a date_array from the date_list\n",
    "date_array = np.array(date_list, dtype='datetime64')\n",
    "\n",
    "#print(date_array)\n",
    "#print(sst_values)"
   ]
  },
  {
   "cell_type": "code",
   "execution_count": 13,
   "id": "fb4579eb-a7d1-4241-a59a-a8a784733145",
   "metadata": {},
   "outputs": [
    {
     "name": "stdout",
     "output_type": "stream",
     "text": [
      "(1, 720, 1440)\n",
      "(4, 0)\n"
     ]
    }
   ],
   "source": [
    "# print the shape of the seaice grid \n",
    "print(np.shape(sst_grid))\n",
    "\n",
    "# take only the \"first timestep\" of the seaice grid... aka removing it\n",
    "sst_grid = sst_grid[0, :, :]\n",
    "\n",
    "# subset the grid and find the area of sea ice in the subset\n",
    "sst_grid_subset = sst_grid[min_y_index:max_y_index, min_x_index:max_x_index]\n",
    "\n",
    "# print the shape of the seaice grid\n",
    "print(np.shape(sst_grid_subset))"
   ]
  },
  {
   "cell_type": "code",
   "execution_count": 14,
   "id": "0f7cbf4f-d968-454a-9b51-447bfe2fc618",
   "metadata": {},
   "outputs": [],
   "source": [
    "def YMD_to_DecYr(year, month, day):\n",
    "    \n",
    "    # define a date object using the datetime module\n",
    "    date = dt.datetime(year, month, day)\n",
    "\n",
    "    # define the start in ordinal units (days since ...)\n",
    "    start = dt.date(year, 1,1).toordinal()\n",
    "\n",
    "    # compute the year_length in ordinal units (365 or 366)\n",
    "    year_length = dt.date(year+1,1,1).toordinal() - start\n",
    "\n",
    "    # compute the fraction based on the date\n",
    "    decimal_fraction = (date.toordinal() - start) / year_length\n",
    "\n",
    "    # compute the decimal year\n",
    "    decimal_year = year + decimal_fraction\n",
    "    \n",
    "    #return\n",
    "    return(decimal_year)"
   ]
  },
  {
   "cell_type": "code",
   "execution_count": 17,
   "id": "4017fe58-bd8d-41ee-9ff9-db95a4d3140e",
   "metadata": {},
   "outputs": [],
   "source": [
    "# make an empty list for the decimal years\n",
    "decyrs = []\n",
    "\n",
    "# loop through the sept date values and fill in the decimal years list\n",
    "for date in date_array:\n",
    "    datetime_date = date.astype(dt.datetime)\n",
    "    yr = datetime_date.year\n",
    "    mo = datetime_date.month\n",
    "    dy = datetime_date.day\n",
    "    dec_yr = YMD_to_DecYr(yr, mo, dy)\n",
    "    decyrs.append(dec_yr)\n",
    "\n",
    "decyrs = np.array(decyrs)"
   ]
  },
  {
   "cell_type": "code",
   "execution_count": 19,
   "id": "8475cde4-ce7a-474a-b067-d6a3aca67bfe",
   "metadata": {},
   "outputs": [
    {
     "name": "stderr",
     "output_type": "stream",
     "text": [
      "No artists with labels found to put in legend.  Note that artists whose label start with an underscore are ignored when legend() is called with no argument.\n"
     ]
    },
    {
     "data": {
      "image/png": "[encoded data removed]",
      "text/plain": [
       "<Figure size 1000x600 with 1 Axes>"
      ]
     },
     "metadata": {},
     "output_type": "display_data"
    }
   ],
   "source": [
    "plt.figure(figsize=(10,6))\n",
    "\n",
    "# make a plot of the sea ice values vs the date array\n",
    "plt.plot(date_list, sst_values)\n",
    "\n",
    "#plot the line of best fit\n",
    "#plt.plot (date_array, best_fit, 'k--', label = 'Trend: '+str(round(slope,3))+' mm/yr' )\n",
    "\n",
    "# label the y axis\n",
    "plt.ylabel('SST Anomalies 2002-2017')\n",
    "\n",
    "# make a grid\n",
    "plt.grid(linestyle='--', linewidth=0.5, alpha=0.5)\n",
    "\n",
    "#add a legend\n",
    "plt.legend()\n",
    "\n",
    "# show the figure\n",
    "plt.show()"
   ]
  },
  {
   "cell_type": "code",
   "execution_count": 8,
   "id": "6f9c0905-8a19-4459-b584-8c79b3635f0a",
   "metadata": {},
   "outputs": [
    {
     "data": {
      "text/plain": [
       "<function matplotlib.pyplot.show(close=None, block=None)>"
      ]
     },
     "execution_count": 8,
     "metadata": {},
     "output_type": "execute_result"
    },
    {
     "data": {
      "image/png": "[encoded data removed]",
      "text/plain": [
       "<Figure size 1000x600 with 1 Axes>"
      ]
     },
     "metadata": {},
     "output_type": "display_data"
    }
   ],
   "source": [
    "#read in csv file of kelp data\n",
    "file_path = 'C:\\\\Users\\\\maddi\\\\Documents\\\\ms274FinalProject\\\\ms274_BullKelp_Project\\\\Notebooks\\\\2000-2023 Kelp Data Q3.csv'\n",
    "\n",
    "timeseries = np.genfromtxt(file_path, delimiter=',', skip_header=1)\n",
    "\n",
    "data = pd.read_csv(file_path)\n",
    "\n",
    "# Extract data from the first and third columns\n",
    "date = data.iloc[:, 0]  # First column\n",
    "kelp_area = data.iloc[:, 2]  # Third column\n",
    "\n",
    "# Plotting the graph\n",
    "plt.figure(figsize=(10, 6))  # Adjust the figure size if needed\n",
    "plt.plot(date, kelp_area, marker='o', linestyle='-', color='b')\n",
    "plt.xlabel('Year')  # Provide an appropriate label for the X-axis\n",
    "plt.ylabel('Kelp Area (m^2)')  # Provide an appropriate label for the Y-axis\n",
    "plt.title('Kelp Area from 2000-2023')\n",
    "plt.grid(True)\n",
    "plt.tight_layout()\n",
    "\n",
    "plt.show"
   ]
  },
  {
   "cell_type": "code",
   "execution_count": null,
   "id": "b54b4e34-da69-428e-b20e-a4fcee947c69",
   "metadata": {},
   "outputs": [],
   "source": []
  },
  {
   "cell_type": "code",
   "execution_count": null,
   "id": "26023775-d41e-49fb-b6e4-50694b51ac65",
   "metadata": {},
   "outputs": [],
   "source": []
  }
 ],
 "metadata": {
  "kernelspec": {
   "display_name": "Python 3 (ipykernel)",
   "language": "python",
   "name": "python3"
  },
  "language_info": {
   "codemirror_mode": {
    "name": "ipython",
    "version": 3
   },
   "file_extension": ".py",
   "mimetype": "text/x-python",
   "name": "python",
   "nbconvert_exporter": "python",
   "pygments_lexer": "ipython3",
   "version": "3.10.12"
  }
 },
 "nbformat": 4,
 "nbformat_minor": 5
}
